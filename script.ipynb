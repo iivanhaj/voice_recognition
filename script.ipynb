{
 "cells": [
  {
   "cell_type": "code",
   "execution_count": 1,
   "metadata": {},
   "outputs": [
    {
     "name": "stdout",
     "output_type": "stream",
     "text": [
      "Requirement already satisfied: SpeechRecognition in c:\\users\\majum\\miniconda3\\lib\\site-packages (3.12.0)\n",
      "Requirement already satisfied: typing-extensions in c:\\users\\majum\\miniconda3\\lib\\site-packages (from SpeechRecognition) (4.10.0)\n",
      "Note: you may need to restart the kernel to use updated packages.\n",
      "Requirement already satisfied: PyAudio in c:\\users\\majum\\miniconda3\\lib\\site-packages (0.2.14)\n",
      "Note: you may need to restart the kernel to use updated packages.\n"
     ]
    }
   ],
   "source": [
    "%pip install SpeechRecognition\n",
    "%pip install PyAudio"
   ]
  },
  {
   "cell_type": "code",
   "execution_count": 2,
   "metadata": {},
   "outputs": [],
   "source": [
    "import speech_recognition as sr"
   ]
  },
  {
   "cell_type": "code",
   "execution_count": 3,
   "metadata": {},
   "outputs": [],
   "source": [
    "recognizer = sr.Recognizer()"
   ]
  },
  {
   "cell_type": "code",
   "execution_count": 4,
   "metadata": {},
   "outputs": [],
   "source": [
    "def capture_voice_input():\n",
    "    with sr.Microphone() as source:\n",
    "        print(\"Listening...\")\n",
    "        audio = recognizer.listen(source)\n",
    "    return audio"
   ]
  },
  {
   "cell_type": "code",
   "execution_count": 5,
   "metadata": {},
   "outputs": [],
   "source": [
    "def convert_voice_to_text(audio):\n",
    "    try:\n",
    "        text = recognizer.recognize_google(audio)\n",
    "        print(\"You said: \" + text)\n",
    "    except sr.UnknownValueError:\n",
    "        text = \"\"\n",
    "        print(\"Sorry, I didn't understand that.\")\n",
    "    except sr.RequestError as e:\n",
    "        text = \"\"\n",
    "        print(\"Error; {0}\".format(e))\n",
    "    return text"
   ]
  },
  {
   "cell_type": "code",
   "execution_count": 6,
   "metadata": {},
   "outputs": [],
   "source": [
    "def process_voice_command(text):\n",
    "    if \"hello\" in text.lower():\n",
    "        print(\"Hello! How can I help you?\")\n",
    "    elif \"goodbye\" in text.lower():\n",
    "        print(\"Goodbye! Have a great day!\")\n",
    "        return True\n",
    "    else:\n",
    "        print(\"I didn't understand that command. Please try again.\")\n",
    "    return False"
   ]
  },
  {
   "cell_type": "code",
   "execution_count": 8,
   "metadata": {},
   "outputs": [
    {
     "name": "stdout",
     "output_type": "stream",
     "text": [
      "Listening...\n",
      "Sorry, I didn't understand that.\n",
      "I didn't understand that command. Please try again.\n",
      "Listening...\n",
      "You said: Kuchh Bhi bolo\n",
      "I didn't understand that command. Please try again.\n",
      "Listening...\n",
      "You said: hello\n",
      "Hello! How can I help you?\n",
      "Listening...\n",
      "You said: ab bolo good\n",
      "I didn't understand that command. Please try again.\n",
      "Listening...\n",
      "Sorry, I didn't understand that.\n",
      "I didn't understand that command. Please try again.\n",
      "Listening...\n",
      "Sorry, I didn't understand that.\n",
      "I didn't understand that command. Please try again.\n",
      "Listening...\n",
      "You said: tata goodbye\n",
      "Goodbye! Have a great day!\n"
     ]
    }
   ],
   "source": [
    "def main():\n",
    "    end_program = False\n",
    "    while not end_program:\n",
    "        audio = capture_voice_input()\n",
    "        text = convert_voice_to_text(audio)\n",
    "        end_program = process_voice_command(text)\n",
    "\n",
    "if __name__ == \"__main__\":\n",
    "    main()"
   ]
  }
 ],
 "metadata": {
  "kernelspec": {
   "display_name": "base",
   "language": "python",
   "name": "python3"
  },
  "language_info": {
   "codemirror_mode": {
    "name": "ipython",
    "version": 3
   },
   "file_extension": ".py",
   "mimetype": "text/x-python",
   "name": "python",
   "nbconvert_exporter": "python",
   "pygments_lexer": "ipython3",
   "version": "3.11.5"
  }
 },
 "nbformat": 4,
 "nbformat_minor": 2
}
